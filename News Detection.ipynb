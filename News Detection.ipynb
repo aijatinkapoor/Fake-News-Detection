{
 "cells": [
  {
   "cell_type": "code",
   "execution_count": 23,
   "id": "bdfd88c8",
   "metadata": {},
   "outputs": [],
   "source": [
    "import pandas as pd\n",
    "import numpy as np\n",
    "from sklearn.utils import shuffle\n",
    "import nltk\n",
    "from nltk.stem import WordNetLemmatizer\n",
    "from nltk.corpus import wordnet, stopwords\n",
    "import re\n",
    "import pickle"
   ]
  },
  {
   "cell_type": "code",
   "execution_count": 6,
   "id": "3013134e-4c3e-462c-8c3e-d60924ec2573",
   "metadata": {},
   "outputs": [
    {
     "name": "stderr",
     "output_type": "stream",
     "text": [
      "[nltk_data] Downloading package punkt to\n",
      "[nltk_data]     C:\\Users\\rupes\\AppData\\Roaming\\nltk_data...\n",
      "[nltk_data]   Package punkt is already up-to-date!\n",
      "[nltk_data] Downloading package punkt_tab to\n",
      "[nltk_data]     C:\\Users\\rupes\\AppData\\Roaming\\nltk_data...\n",
      "[nltk_data]   Package punkt_tab is already up-to-date!\n",
      "[nltk_data] Downloading package stopwords to\n",
      "[nltk_data]     C:\\Users\\rupes\\AppData\\Roaming\\nltk_data...\n",
      "[nltk_data]   Package stopwords is already up-to-date!\n",
      "[nltk_data] Downloading package wordnet to\n",
      "[nltk_data]     C:\\Users\\rupes\\AppData\\Roaming\\nltk_data...\n",
      "[nltk_data]   Package wordnet is already up-to-date!\n",
      "[nltk_data] Downloading package omw-1.4 to\n",
      "[nltk_data]     C:\\Users\\rupes\\AppData\\Roaming\\nltk_data...\n",
      "[nltk_data]   Package omw-1.4 is already up-to-date!\n"
     ]
    },
    {
     "data": {
      "text/plain": [
       "True"
      ]
     },
     "execution_count": 6,
     "metadata": {},
     "output_type": "execute_result"
    }
   ],
   "source": [
    "nltk.download('punkt')\n",
    "nltk.download('punkt_tab')\n",
    "nltk.download('stopwords')\n",
    "nltk.download('wordnet')\n",
    "nltk.download('omw-1.4')"
   ]
  },
  {
   "cell_type": "code",
   "execution_count": 7,
   "id": "2be6bdbd-1277-469b-8c20-e01b6a9a4ae5",
   "metadata": {},
   "outputs": [],
   "source": [
    "df = pd.read_csv(\"News _dataset/Fake.csv\")"
   ]
  },
  {
   "cell_type": "code",
   "execution_count": 8,
   "id": "a76e3694-9007-47bb-b8db-5f5ff54d9f75",
   "metadata": {},
   "outputs": [],
   "source": [
    "df2 = pd.read_csv(\"News _dataset/True.csv\")"
   ]
  },
  {
   "cell_type": "code",
   "execution_count": 9,
   "id": "b0fdc55d-74f9-40ed-bb76-a3cc2da1e6fb",
   "metadata": {},
   "outputs": [],
   "source": [
    "df['label'] = 0\n",
    "df2['label'] = 1"
   ]
  },
  {
   "cell_type": "code",
   "execution_count": 10,
   "id": "3db94c4e-a3fe-44cf-a326-729bde8bcf28",
   "metadata": {},
   "outputs": [
    {
     "data": {
      "text/plain": [
       "(23481, 21417)"
      ]
     },
     "execution_count": 10,
     "metadata": {},
     "output_type": "execute_result"
    }
   ],
   "source": [
    "len(df), len(df2)"
   ]
  },
  {
   "cell_type": "code",
   "execution_count": 11,
   "id": "28904921-b29e-44e9-bccf-c35aaeba0185",
   "metadata": {},
   "outputs": [],
   "source": [
    "dataset = pd.concat([df, df2], axis = 0).reset_index(drop = True)"
   ]
  },
  {
   "cell_type": "code",
   "execution_count": 12,
   "id": "7d1e209f-e5df-4fe9-ab79-9dad7f3333a7",
   "metadata": {},
   "outputs": [
    {
     "data": {
      "text/plain": [
       "44898"
      ]
     },
     "execution_count": 12,
     "metadata": {},
     "output_type": "execute_result"
    }
   ],
   "source": [
    "len(dataset)"
   ]
  },
  {
   "cell_type": "code",
   "execution_count": 13,
   "id": "adda131b-64ba-4455-94f5-4b3f6d5042c5",
   "metadata": {},
   "outputs": [
    {
     "data": {
      "text/html": [
       "<div>\n",
       "<style scoped>\n",
       "    .dataframe tbody tr th:only-of-type {\n",
       "        vertical-align: middle;\n",
       "    }\n",
       "\n",
       "    .dataframe tbody tr th {\n",
       "        vertical-align: top;\n",
       "    }\n",
       "\n",
       "    .dataframe thead th {\n",
       "        text-align: right;\n",
       "    }\n",
       "</style>\n",
       "<table border=\"1\" class=\"dataframe\">\n",
       "  <thead>\n",
       "    <tr style=\"text-align: right;\">\n",
       "      <th></th>\n",
       "      <th>title</th>\n",
       "      <th>text</th>\n",
       "      <th>subject</th>\n",
       "      <th>date</th>\n",
       "      <th>label</th>\n",
       "    </tr>\n",
       "  </thead>\n",
       "  <tbody>\n",
       "    <tr>\n",
       "      <th>43129</th>\n",
       "      <td>Sudan's Bashir visits Darfur ahead of U.S. san...</td>\n",
       "      <td>KHARTOUM (Reuters) - Sudanese President Omar a...</td>\n",
       "      <td>worldnews</td>\n",
       "      <td>September 19, 2017</td>\n",
       "      <td>1</td>\n",
       "    </tr>\n",
       "    <tr>\n",
       "      <th>11482</th>\n",
       "      <td>WIKILEAKS REMINDS THE WORLD: “Obama has a hist...</td>\n",
       "      <td>Wikileaks founder Julian Assange reminded us i...</td>\n",
       "      <td>politics</td>\n",
       "      <td>Mar 5, 2017</td>\n",
       "      <td>0</td>\n",
       "    </tr>\n",
       "    <tr>\n",
       "      <th>35454</th>\n",
       "      <td>United States calls for delivery of U.N. aid s...</td>\n",
       "      <td>WASHINGTON (Reuters) - The United States is pr...</td>\n",
       "      <td>worldnews</td>\n",
       "      <td>December 18, 2017</td>\n",
       "      <td>1</td>\n",
       "    </tr>\n",
       "    <tr>\n",
       "      <th>21950</th>\n",
       "      <td>Was Gaddafi Right About JFK?</td>\n",
       "      <td>The late Libyan leader Muammar Gaddafi remarke...</td>\n",
       "      <td>US_News</td>\n",
       "      <td>November 6, 2017</td>\n",
       "      <td>0</td>\n",
       "    </tr>\n",
       "    <tr>\n",
       "      <th>41260</th>\n",
       "      <td>Yemen Islamist party members arrested, ratchet...</td>\n",
       "      <td>ADEN (Reuters) - Security forces in the southe...</td>\n",
       "      <td>worldnews</td>\n",
       "      <td>October 11, 2017</td>\n",
       "      <td>1</td>\n",
       "    </tr>\n",
       "    <tr>\n",
       "      <th>2671</th>\n",
       "      <td>Judge Who Blocked Trump’s Muslim Ban REPEATED...</td>\n",
       "      <td>While Trump is whining up a storm on Twitter a...</td>\n",
       "      <td>News</td>\n",
       "      <td>February 5, 2017</td>\n",
       "      <td>0</td>\n",
       "    </tr>\n",
       "    <tr>\n",
       "      <th>8177</th>\n",
       "      <td>‘Sex And The City’ Star Forced To Do CRINGEWO...</td>\n",
       "      <td>Everyone knows actress Kristin Davis from her ...</td>\n",
       "      <td>News</td>\n",
       "      <td>February 11, 2016</td>\n",
       "      <td>0</td>\n",
       "    </tr>\n",
       "    <tr>\n",
       "      <th>20346</th>\n",
       "      <td>OBAMA’S GAL PAL Loretta Lynch WON’T RECUSE HER...</td>\n",
       "      <td>Reasonable Americans expected never expected u...</td>\n",
       "      <td>left-news</td>\n",
       "      <td>Jul 1, 2016</td>\n",
       "      <td>0</td>\n",
       "    </tr>\n",
       "    <tr>\n",
       "      <th>20345</th>\n",
       "      <td>LIBERAL HUFFINGTON POST HEADLINE: “Man, Bill C...</td>\n",
       "      <td>Is it possible that Bill s latest move could v...</td>\n",
       "      <td>left-news</td>\n",
       "      <td>Jul 1, 2016</td>\n",
       "      <td>0</td>\n",
       "    </tr>\n",
       "    <tr>\n",
       "      <th>42051</th>\n",
       "      <td>Barca closed soccer stadium to show support fo...</td>\n",
       "      <td>BARCELONA (Reuters) - Barcelona president Jose...</td>\n",
       "      <td>worldnews</td>\n",
       "      <td>October 1, 2017</td>\n",
       "      <td>1</td>\n",
       "    </tr>\n",
       "  </tbody>\n",
       "</table>\n",
       "</div>"
      ],
      "text/plain": [
       "                                                   title  \\\n",
       "43129  Sudan's Bashir visits Darfur ahead of U.S. san...   \n",
       "11482  WIKILEAKS REMINDS THE WORLD: “Obama has a hist...   \n",
       "35454  United States calls for delivery of U.N. aid s...   \n",
       "21950                       Was Gaddafi Right About JFK?   \n",
       "41260  Yemen Islamist party members arrested, ratchet...   \n",
       "2671    Judge Who Blocked Trump’s Muslim Ban REPEATED...   \n",
       "8177    ‘Sex And The City’ Star Forced To Do CRINGEWO...   \n",
       "20346  OBAMA’S GAL PAL Loretta Lynch WON’T RECUSE HER...   \n",
       "20345  LIBERAL HUFFINGTON POST HEADLINE: “Man, Bill C...   \n",
       "42051  Barca closed soccer stadium to show support fo...   \n",
       "\n",
       "                                                    text    subject  \\\n",
       "43129  KHARTOUM (Reuters) - Sudanese President Omar a...  worldnews   \n",
       "11482  Wikileaks founder Julian Assange reminded us i...   politics   \n",
       "35454  WASHINGTON (Reuters) - The United States is pr...  worldnews   \n",
       "21950  The late Libyan leader Muammar Gaddafi remarke...    US_News   \n",
       "41260  ADEN (Reuters) - Security forces in the southe...  worldnews   \n",
       "2671   While Trump is whining up a storm on Twitter a...       News   \n",
       "8177   Everyone knows actress Kristin Davis from her ...       News   \n",
       "20346  Reasonable Americans expected never expected u...  left-news   \n",
       "20345  Is it possible that Bill s latest move could v...  left-news   \n",
       "42051  BARCELONA (Reuters) - Barcelona president Jose...  worldnews   \n",
       "\n",
       "                      date  label  \n",
       "43129  September 19, 2017       1  \n",
       "11482          Mar 5, 2017      0  \n",
       "35454   December 18, 2017       1  \n",
       "21950     November 6, 2017      0  \n",
       "41260    October 11, 2017       1  \n",
       "2671      February 5, 2017      0  \n",
       "8177     February 11, 2016      0  \n",
       "20346          Jul 1, 2016      0  \n",
       "20345          Jul 1, 2016      0  \n",
       "42051     October 1, 2017       1  "
      ]
     },
     "execution_count": 13,
     "metadata": {},
     "output_type": "execute_result"
    }
   ],
   "source": [
    "dataset.sample(10)"
   ]
  },
  {
   "cell_type": "code",
   "execution_count": 14,
   "id": "d02a821e-63bd-4858-ae6a-69f507f60e65",
   "metadata": {},
   "outputs": [],
   "source": [
    "dataset = shuffle(dataset, random_state = 42).reset_index(drop = True)"
   ]
  },
  {
   "cell_type": "code",
   "execution_count": 15,
   "id": "f72354a7-b6d1-4299-9d63-c88a6e586eaf",
   "metadata": {},
   "outputs": [],
   "source": [
    "stop_words = set(stopwords.words('english'))\n",
    "lemmatizer = WordNetLemmatizer()\n",
    "\n",
    "def preprocessing(text):\n",
    "    text = text.lower()\n",
    "\n",
    "    text = re.sub(r'http\\S+|www\\S+', '', text)\n",
    "\n",
    "    words = nltk.word_tokenize(text)\n",
    "\n",
    "    words = [word for word in words if word not in stop_words]\n",
    "\n",
    "    lemmatized = [lemmatizer.lemmatize(word) for word in words]\n",
    "\n",
    "    return ' '.join(lemmatized)"
   ]
  },
  {
   "cell_type": "code",
   "execution_count": 16,
   "id": "d98e90d2-3354-47f3-8d93-3468eba6c66d",
   "metadata": {},
   "outputs": [],
   "source": [
    "dataset['processed_text'] = dataset['text'].apply(preprocessing)"
   ]
  },
  {
   "cell_type": "code",
   "execution_count": 17,
   "id": "0b630a25-e18a-4b0e-9779-75878285ad2e",
   "metadata": {},
   "outputs": [],
   "source": [
    "dataset['processed_title'] = dataset['title'].apply(preprocessing)"
   ]
  },
  {
   "cell_type": "code",
   "execution_count": 18,
   "id": "ab806533-21af-4e27-83c5-8262ea4e2e2a",
   "metadata": {},
   "outputs": [],
   "source": [
    "dataset.to_csv(\"processed_dataset.csv\", index = False) "
   ]
  },
  {
   "cell_type": "code",
   "execution_count": 19,
   "id": "df756898-789b-4d2d-b230-d8eb7103b9ef",
   "metadata": {},
   "outputs": [],
   "source": [
    "from sklearn.feature_extraction.text import TfidfVectorizer\n",
    "from sklearn.model_selection import train_test_split"
   ]
  },
  {
   "cell_type": "code",
   "execution_count": 20,
   "id": "89db8a49-096b-4ac5-b897-dd6e4b9cd861",
   "metadata": {},
   "outputs": [],
   "source": [
    "vectorizer = TfidfVectorizer(max_features = 5000)\n",
    "X = vectorizer.fit_transform(dataset['processed_text'])\n",
    "y = dataset['label']\n",
    "\n",
    "X_train, X_test, y_train, y_test = train_test_split(X, y, test_size = 0.2)"
   ]
  },
  {
   "cell_type": "code",
   "execution_count": 21,
   "id": "d269ba3d-791c-4454-9afc-21fa1eb7635f",
   "metadata": {},
   "outputs": [
    {
     "name": "stdout",
     "output_type": "stream",
     "text": [
      "0.9947661469933184\n"
     ]
    }
   ],
   "source": [
    "from sklearn.svm import LinearSVC\n",
    "from sklearn.metrics import accuracy_score\n",
    "\n",
    "svm_model = LinearSVC()\n",
    "svm_model.fit(X_train, y_train)\n",
    "\n",
    "y_svm_pred = svm_model.predict(X_test)\n",
    "print(accuracy_score(y_svm_pred, y_test))"
   ]
  },
  {
   "cell_type": "code",
   "execution_count": null,
   "id": "e1148fd8",
   "metadata": {},
   "outputs": [],
   "source": [
    "with open(\"News_Detection_SVM.pkl\", \"wb\") as f:\n",
    "    pickle.dump(svm_model, f)"
   ]
  },
  {
   "cell_type": "code",
   "execution_count": 22,
   "id": "6800dfd1-524e-434a-9550-7f15abb3fe5b",
   "metadata": {},
   "outputs": [
    {
     "name": "stdout",
     "output_type": "stream",
     "text": [
      "0.9979955456570155\n"
     ]
    }
   ],
   "source": [
    "import xgboost as xgb\n",
    "\n",
    "xgb_clf = xgb.XGBClassifier(eval_metric='logloss')\n",
    "xgb_clf.fit(X_train, y_train)\n",
    "\n",
    "y_pred_xgb = xgb_clf.predict(X_test)\n",
    "print(accuracy_score(y_test, y_pred_xgb))"
   ]
  },
  {
   "cell_type": "code",
   "execution_count": null,
   "id": "2cb188e2",
   "metadata": {},
   "outputs": [],
   "source": [
    "with open(\"News_Detection_XGB.pkl\", \"wb\") as f:\n",
    "    pickle.dump(xgb_clf, f)"
   ]
  }
 ],
 "metadata": {
  "kernelspec": {
   "display_name": "Python 3",
   "language": "python",
   "name": "python3"
  },
  "language_info": {
   "codemirror_mode": {
    "name": "ipython",
    "version": 3
   },
   "file_extension": ".py",
   "mimetype": "text/x-python",
   "name": "python",
   "nbconvert_exporter": "python",
   "pygments_lexer": "ipython3",
   "version": "3.13.7"
  }
 },
 "nbformat": 4,
 "nbformat_minor": 5
}
